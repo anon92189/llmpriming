{
  "nbformat": 4,
  "nbformat_minor": 0,
  "metadata": {
    "colab": {
      "provenance": []
    },
    "kernelspec": {
      "name": "python3",
      "display_name": "Python 3"
    },
    "language_info": {
      "name": "python"
    }
  },
  "cells": [
    {
      "cell_type": "markdown",
      "source": [
        "#Notebook for Analyzing Data from Individual Graphs\n",
        "\n",
        "This notebook contains the code needed to analyze the data sets containing both Hutchinson et al.'s semantic priming data and the minimum path length between prime and target nodes in each graph."
      ],
      "metadata": {
        "id": "TYCpRwn-gzjV"
      }
    },
    {
      "cell_type": "markdown",
      "source": [
        "###Imports"
      ],
      "metadata": {
        "id": "faZXDrh1j3Mz"
      }
    },
    {
      "cell_type": "code",
      "execution_count": null,
      "metadata": {
        "id": "f1on_XbfLNmO"
      },
      "outputs": [],
      "source": [
        "import ast\n",
        "import pandas as pd\n",
        "import sys\n",
        "import typing_extensions as typing\n",
        "import numpy as np\n",
        "from tqdm.auto import tqdm\n",
        "from google.colab import drive\n",
        "from scipy.stats import f, t, zscore\n",
        "from matplotlib import pyplot as plt\n",
        "import seaborn as sns\n",
        "import statsmodels.api as sm\n",
        "import statsmodels.formula.api as smf"
      ]
    },
    {
      "cell_type": "markdown",
      "source": [
        "###Set the Model, Temperature, and Maximum Output Tokens that Generated the Graph You Want to Analyze"
      ],
      "metadata": {
        "id": "BDioa_BxlxMN"
      }
    },
    {
      "cell_type": "code",
      "source": [
        "model = \"gemini-1.5-pro-001\"\n",
        "temperature = 0\n",
        "max_output_tokens = 512"
      ],
      "metadata": {
        "id": "FMzNcnZQOYek"
      },
      "execution_count": null,
      "outputs": []
    },
    {
      "cell_type": "markdown",
      "source": [
        "###Prepare the Semantic Priming and Minimum Path Length Data for Analysis"
      ],
      "metadata": {
        "id": "NB3CMNOcl6x-"
      }
    },
    {
      "cell_type": "code",
      "source": [
        "words_df = pd.read_csv(f'/data/path_length_rt_data'\n",
        "f'results_model_{model}_temp{temperature}_maxout{max_output_tokens}.csv')\n",
        "\n",
        "# Find the maximum non-infinite value in the 'distance' column\n",
        "max_distance = np.nanmax(words_df['distance'][np.isfinite(words_df['distance'])])\n",
        "\n",
        "# Replace infinite values with max_distance + 1\n",
        "words_df['distance'] = words_df['distance'].replace(np.inf, max_distance + 1)\n",
        "\n",
        "words_df['z_distance'] = zscore(words_df['distance'])\n",
        "\n",
        "words_df['Trial'] = zscore(words_df['Trial'])"
      ],
      "metadata": {
        "id": "dn9YRLNfiiQh"
      },
      "execution_count": null,
      "outputs": []
    },
    {
      "cell_type": "markdown",
      "source": [
        "###Run a Mixed-Effects Linear Regression, Treating the Participant as a Random Effect"
      ],
      "metadata": {
        "id": "6voNCMl1mCaF"
      }
    },
    {
      "cell_type": "code",
      "source": [
        "mod = smf.mixedlm('RT ~ z_distance + Trial + Session',\n",
        "            data=words_df,\n",
        "            groups=words_df[\"Subject\"],\n",
        "            re_formula=\"1 + z_distance + Trial + Session\").fit()\n",
        "print(mod.summary())"
      ],
      "metadata": {
        "colab": {
          "base_uri": "https://localhost:8080/"
        },
        "id": "39A-cZipfstz",
        "outputId": "7f4c9b3c-cd99-4123-9aa5-d814c6324ab7"
      },
      "execution_count": null,
      "outputs": [
        {
          "output_type": "stream",
          "name": "stderr",
          "text": [
            "/usr/local/lib/python3.11/dist-packages/statsmodels/regression/mixed_linear_model.py:2237: ConvergenceWarning: The MLE may be on the boundary of the parameter space.\n",
            "  warnings.warn(msg, ConvergenceWarning)\n"
          ]
        },
        {
          "output_type": "stream",
          "name": "stdout",
          "text": [
            "               Mixed Linear Model Regression Results\n",
            "===================================================================\n",
            "Model:               MixedLM    Dependent Variable:    RT          \n",
            "No. Observations:    423887     Method:                REML        \n",
            "No. Groups:          512        Scale:                 0.6885      \n",
            "Min. group size:     594        Log-Likelihood:        -525507.9371\n",
            "Max. group size:     831        Converged:             Yes         \n",
            "Mean group size:     827.9                                         \n",
            "-------------------------------------------------------------------\n",
            "                         Coef.  Std.Err.   z    P>|z| [0.025 0.975]\n",
            "-------------------------------------------------------------------\n",
            "Intercept                -0.024    0.027 -0.900 0.368 -0.077  0.029\n",
            "z_distance                0.031    0.001 21.268 0.000  0.028  0.034\n",
            "Trial                     0.071    0.006 12.020 0.000  0.060  0.083\n",
            "Session                   0.018    0.015  1.187 0.235 -0.011  0.047\n",
            "Group Var                 0.366    0.028                           \n",
            "Group x z_distance Cov   -0.001    0.001                           \n",
            "z_distance Var            0.000    0.000                           \n",
            "Group x Trial Cov         0.009    0.004                           \n",
            "z_distance x Trial Cov    0.000    0.000                           \n",
            "Trial Var                 0.017    0.001                           \n",
            "Group x Session Cov      -0.115    0.013                           \n",
            "z_distance x Session Cov  0.001    0.001                           \n",
            "Trial x Session Cov       0.014    0.003                           \n",
            "Session Var               0.109    0.009                           \n",
            "===================================================================\n",
            "\n"
          ]
        }
      ]
    },
    {
      "cell_type": "markdown",
      "source": [
        "###Generate a Bar Chart Showing the Relationship between the Minimum Path Length Between Prime and Target Nodes and Reaction Time in Hutchinson et al.'s Data"
      ],
      "metadata": {
        "id": "GLFPPgNxmTSa"
      }
    },
    {
      "cell_type": "code",
      "source": [
        "# Calculate mean, count, and standard deviation for each distance\n",
        "summary_stats = words_df.groupby('distance')['RT'].agg(['mean', 'std', 'count'])\n",
        "summary_stats = summary_stats.reset_index()\n",
        "summary_stats.rename(columns={'mean': 'RT', 'std': 'RT_SD'}, inplace=True)\n",
        "\n",
        "# Calculate the 95% confidence intervals\n",
        "confidence_level = 0.95\n",
        "degrees_of_freedom = summary_stats['count'] - 1\n",
        "ppf = t.ppf((1 + confidence_level) / 2, degrees_of_freedom)\n",
        "ci = ppf * (summary_stats['RT_SD'] / summary_stats['count']**0.5)\n",
        "summary_stats['CI_lower'] = summary_stats['RT'] - ci\n",
        "summary_stats['CI_upper'] = summary_stats['RT'] + ci\n",
        "\n",
        "# Create the bar chart with 95% confidence intervals as error bars\n",
        "plt.figure(figsize=(10, 6))\n",
        "ax = sns.barplot(\n",
        "    x='distance',\n",
        "    y='RT',\n",
        "    data=summary_stats,\n",
        "    capsize=0.2,\n",
        "    errorbar=None\n",
        ")\n",
        "\n",
        "# Add custom error bars for 95% confidence intervals\n",
        "plt.errorbar(\n",
        "    x=range(summary_stats.shape[0]),\n",
        "    y=summary_stats['RT'],\n",
        "    yerr=ci,\n",
        "    fmt='none',\n",
        "    capsize=5,\n",
        "    color='black',\n",
        "    label='95% CI'  # Add label for error bars\n",
        ")\n",
        "\n",
        "# Modify x-axis labels to replace '9.0' with '∞'\n",
        "xticks = list(summary_stats['distance'])\n",
        "xticks = [str(x) if x != np.max(words_df['distance']) else '∞' for x in xticks]\n",
        "plt.xticks(ticks=range(len(xticks)), labels=xticks, fontsize=12)\n",
        "\n",
        "# Add labels and title\n",
        "plt.xlabel('Distance in LLM-Generated Network', fontsize=20)\n",
        "plt.ylabel('Reaction Time (z-scored)', fontsize=20)\n",
        "plt.legend()\n",
        "plt.show()\n"
      ],
      "metadata": {
        "colab": {
          "base_uri": "https://localhost:8080/",
          "height": 560
        },
        "id": "XvzQSKE7O9pi",
        "outputId": "8fe2846d-12b4-49a8-c306-37b418181905"
      },
      "execution_count": null,
      "outputs": [
        {
          "output_type": "display_data",
          "data": {
            "text/plain": [
              "<Figure size 1000x600 with 1 Axes>"
            ],
            "image/png": "[encoded data removed]"
          },
          "metadata": {}
        }
      ]
    }
  ]
}