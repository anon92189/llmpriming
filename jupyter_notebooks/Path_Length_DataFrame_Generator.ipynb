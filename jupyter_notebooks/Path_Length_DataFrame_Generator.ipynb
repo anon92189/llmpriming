{
  "nbformat": 4,
  "nbformat_minor": 0,
  "metadata": {
    "colab": {
      "provenance": []
    },
    "kernelspec": {
      "name": "python3",
      "display_name": "Python 3"
    },
    "language_info": {
      "name": "python"
    }
  },
  "cells": [
    {
      "cell_type": "markdown",
      "source": [
        "#Notebook for Generating Minimum Path Length Data for Semantic Graphs\n",
        "\n",
        "This notebook takes contains the code needed to take as input an LLM-generated semantic graph and return a dataframe that adds a column with the minimum path length between the prime and target words to Hutchinson et al.'s data set."
      ],
      "metadata": {
        "id": "l4ylqNgFZtyG"
      }
    },
    {
      "cell_type": "markdown",
      "source": [
        "###Imports"
      ],
      "metadata": {
        "id": "cG3BvB4Ma_YH"
      }
    },
    {
      "cell_type": "code",
      "execution_count": null,
      "metadata": {
        "id": "hTmhbyowAYoN"
      },
      "outputs": [],
      "source": [
        "import ast\n",
        "import pandas as pd\n",
        "import sys\n",
        "import numpy as np\n",
        "from tqdm.auto import tqdm\n",
        "import networkx as nx\n",
        "from numba import jit\n",
        "from google.colab import drive\n",
        "from scipy.stats import zscore"
      ]
    },
    {
      "cell_type": "markdown",
      "source": [
        "####Load and Clean the List of Words Used in Semantic Priming"
      ],
      "metadata": {
        "id": "KB8bEiOtbGRe"
      }
    },
    {
      "cell_type": "code",
      "source": [
        "df = pd.read_csv('data/priming_data.csv', engine='python')\n",
        "words_df = df[df['type'] != 'nw']\n",
        "words_df = words_df[words_df['RT'] != '#NULL!']\n",
        "words_df['RT'] = [int(i) for i in words_df[\"RT\"]]\n",
        "words_df['RT'] = zscore(words_df['RT'])\n",
        "words_df = words_df.reset_index(drop=True)\n",
        "unique_words = np.concatenate([np.unique(words_df['prime']),\n",
        "                               np.unique(words_df['target'])])\n",
        "unique_words = [w.lower() for w in unique_words]"
      ],
      "metadata": {
        "id": "mGaV2KV1Agax"
      },
      "execution_count": null,
      "outputs": []
    },
    {
      "cell_type": "markdown",
      "source": [
        "###Define a Function to Obtain Mimumum Path Length Based on the Precomputed Shortest Path Lengths"
      ],
      "metadata": {
        "id": "GCYDnTKebRcA"
      }
    },
    {
      "cell_type": "code",
      "source": [
        "def get_distance(str: prime, str: target, set: node_distances) -> int:\n",
        "  \"\"\"\n",
        "  Obtains the minimum path length between a target word and a prime word.\n",
        "\n",
        "  Args:\n",
        "    prime: the prime word\n",
        "\n",
        "    prime: the target word\n",
        "\n",
        "    node_distances: the precomputed shortest path lengths between all nodes\n",
        "\n",
        "  Returns:\n",
        "    The minimum path length between the prime and target words\n",
        "  \"\"\"\n",
        "  prime_dists = node_distances.get(prime, {})\n",
        "  return prime_dists.get(target, float('inf')) #Return inf if no path exists"
      ],
      "metadata": {
        "id": "utytad3Obc4D"
      },
      "execution_count": null,
      "outputs": []
    },
    {
      "cell_type": "markdown",
      "source": [
        "###Set the Model, Temperature, and Maximum Output Tokens Used to Generate the Graph You Wish to Obtain"
      ],
      "metadata": {
        "id": "MDV5lbpHcFwx"
      }
    },
    {
      "cell_type": "code",
      "source": [
        "model = \"gemini-1.5-pro-001\"\n",
        "\n",
        "temperature = 0\n",
        "\n",
        "max_output_tokens = 512"
      ],
      "metadata": {
        "id": "J1h0HbGkciWv"
      },
      "execution_count": null,
      "outputs": []
    },
    {
      "cell_type": "markdown",
      "source": [
        "###Generate and Save the Dataframe Appending a Column with the Minimal Path Length Between Each Target-Prime Pair"
      ],
      "metadata": {
        "id": "UfLFZ7rGcwIA"
      }
    },
    {
      "cell_type": "code",
      "source": [
        "filename = (f'/data/semantic_gaphs/graph_model_{model}_'\n",
        "            f'temp{temperature}_maxoutput{max_output_tokens}.txt')\n",
        "\n",
        "\n",
        "f = open(filename, \"r\")\n",
        "formatted_graphs_string = f.read()\n",
        "f.close()\n",
        "formatted_graphs = ast.literal_eval(formatted_graphs_string)\n",
        "\n",
        "# Build the graph\n",
        "G = nx.Graph()\n",
        "for l in formatted_graphs:\n",
        "    G.add_edges_from((triple['subject'], triple['target']) for triple in l)\n",
        "\n",
        "# Precompute shortest path lengths for all nodes\n",
        "node_distances = {node: nx.single_source_shortest_path_length(G, node)\n",
        "                        for node in tqdm(unique_words) if node in G.nodes}\n",
        "\n",
        "# Calculate all distances\n",
        "all_distances = [\n",
        "    get_distance(\n",
        "        words_df[\"prime\"].iloc[i].lower(),\n",
        "        words_df[\"target\"].iloc[i].lower(),\n",
        "        node_distances\n",
        "    )\n",
        "    for i in tqdm(range(len(words_df)))\n",
        "]\n",
        "\n",
        "# Add distances to the DataFrame\n",
        "words_df['distance'] = all_distances\n",
        "\n",
        "#Save dataframe with results to .csv\n",
        "\n",
        "filename = (f'/data/path_length_rt_data/'\n",
        "            f'/results_model_{model}_temp{temperature}_maxout'\n",
        "            f'{max_output_tokens}.csv')\n",
        "\n",
        "words_df.to_csv(filename)"
      ],
      "metadata": {
        "id": "pUQaOnpmJrMK"
      },
      "execution_count": null,
      "outputs": []
    }
  ]
}